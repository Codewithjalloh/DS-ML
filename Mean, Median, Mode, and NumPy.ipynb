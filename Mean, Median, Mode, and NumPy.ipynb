{
 "cells": [
  {
   "cell_type": "code",
   "execution_count": 1,
   "metadata": {},
   "outputs": [
    {
     "data": {
      "text/plain": [
       "27162.14158020525"
      ]
     },
     "execution_count": 1,
     "metadata": {},
     "output_type": "execute_result"
    }
   ],
   "source": [
    "# Mean vs. Median\n",
    "\n",
    "import numpy as np\n",
    "\n",
    "incomes = np.random.normal(27000, 15000, 10000)\n",
    "np.mean(incomes)"
   ]
  },
  {
   "cell_type": "code",
   "execution_count": 2,
   "metadata": {},
   "outputs": [
    {
     "data": {
      "image/png": "[encoded data removed]",
      "text/plain": [
       "<Figure size 432x288 with 1 Axes>"
      ]
     },
     "metadata": {},
     "output_type": "display_data"
    }
   ],
   "source": [
    "%matplotlib inline\n",
    "import matplotlib.pyplot as plt\n",
    "plt.hist(incomes, 50)\n",
    "plt.show()"
   ]
  },
  {
   "cell_type": "code",
   "execution_count": 3,
   "metadata": {},
   "outputs": [
    {
     "data": {
      "text/plain": [
       "27175.49342486129"
      ]
     },
     "execution_count": 3,
     "metadata": {},
     "output_type": "execute_result"
    }
   ],
   "source": [
    "np.median(incomes)"
   ]
  },
  {
   "cell_type": "code",
   "execution_count": 4,
   "metadata": {},
   "outputs": [],
   "source": [
    "incomes = np.append(incomes, [1000000000])"
   ]
  },
  {
   "cell_type": "code",
   "execution_count": 5,
   "metadata": {},
   "outputs": [
    {
     "data": {
      "text/plain": [
       "27176.364461244633"
      ]
     },
     "execution_count": 5,
     "metadata": {},
     "output_type": "execute_result"
    }
   ],
   "source": [
    "np.median(incomes)"
   ]
  },
  {
   "cell_type": "code",
   "execution_count": 6,
   "metadata": {},
   "outputs": [
    {
     "data": {
      "text/plain": [
       "127149.4266375415"
      ]
     },
     "execution_count": 6,
     "metadata": {},
     "output_type": "execute_result"
    }
   ],
   "source": [
    "np.mean(incomes)"
   ]
  },
  {
   "cell_type": "code",
   "execution_count": 8,
   "metadata": {},
   "outputs": [
    {
     "data": {
      "text/plain": [
       "array([58, 27, 21, 22, 52, 23, 79, 69, 53, 76, 31, 66, 31, 28, 34, 48, 21,\n",
       "       25, 57, 38, 76, 19, 38, 36, 49, 48, 68, 20, 41, 50, 46, 39, 28, 46,\n",
       "       42, 44, 70, 40, 65, 36, 58, 36, 70, 57, 31, 25, 83, 33, 78, 65, 65,\n",
       "       80, 52, 68, 34, 82, 21, 31, 72, 51, 19, 50, 24, 84, 44, 81, 52, 65,\n",
       "       51, 34, 46, 50, 74, 19, 46, 22, 68, 55, 30, 69, 41, 39, 49, 56, 24,\n",
       "       41, 83, 27, 70, 87, 70, 45, 40, 85, 28, 34, 83, 78, 65, 40, 81, 69,\n",
       "       23, 82, 75, 81, 70, 77, 56, 37, 36, 34, 37, 36, 53, 82, 82, 74, 65,\n",
       "       28, 39, 64, 36, 64, 60, 53, 78, 78, 82, 78, 20, 40, 77, 64, 85, 36,\n",
       "       40, 22, 74, 51, 34, 42, 79, 61, 52, 64, 47, 76, 33, 83, 55, 19, 21,\n",
       "       60, 83, 43, 31, 54, 26, 48, 63, 33, 24, 46, 68, 19, 66, 66, 33, 62,\n",
       "       33, 34, 53, 87, 80, 46, 30, 40, 88, 80, 40, 35, 23, 30, 68, 79, 76,\n",
       "       52, 71, 29, 43, 43, 56, 84, 71, 81, 70, 19, 76, 86, 87, 48, 74, 51,\n",
       "       59, 76, 28, 56, 20, 37, 36, 54, 58, 48, 73, 56, 50, 26, 72, 72, 79,\n",
       "       36, 89, 40, 73, 34, 26, 37, 24, 63, 47, 20, 76, 24, 89, 20, 77, 77,\n",
       "       23, 22, 39, 63, 80, 45, 47, 79, 81, 88, 86, 65, 61, 73, 28, 50, 60,\n",
       "       27, 30, 75, 29, 81, 25, 70, 67, 75, 35, 64, 88, 20, 80, 43, 50, 31,\n",
       "       43, 88, 43, 27, 70, 52, 78, 64, 42, 40, 68, 69, 53, 57, 61, 27, 38,\n",
       "       82, 51, 26, 24, 42, 45, 49, 41, 37, 67, 84, 88, 45, 47, 47, 21, 87,\n",
       "       36, 30, 69, 62, 58, 82, 35, 63, 47, 76, 41, 47, 55, 80, 41, 23, 48,\n",
       "       89, 76, 31, 58, 79, 38, 83, 67, 87, 58, 46, 21, 41, 23, 30, 88, 38,\n",
       "       69, 62, 50, 43, 73, 72, 58, 55, 24, 54, 33, 81, 52, 48, 35, 78, 89,\n",
       "       78, 76, 58, 54, 88, 58, 81, 35, 42, 70, 40, 35, 20, 25, 34, 79, 22,\n",
       "       18, 18, 33, 37, 32, 34, 53, 53, 52, 64, 61, 35, 54, 64, 35, 44, 47,\n",
       "       87, 87, 19, 73, 49, 18, 76, 46, 42, 53, 77, 65, 86, 31, 65, 49, 48,\n",
       "       22, 55, 73, 25, 71, 55, 46, 23, 37, 24, 44, 35, 78, 70, 47, 73, 25,\n",
       "       83, 82, 53, 50, 70, 58, 18, 39, 46, 48, 72, 85, 79, 75, 81, 65, 32,\n",
       "       78, 39, 57, 35, 36, 77, 89, 45, 23, 77, 40, 38, 19, 38, 67, 23, 70,\n",
       "       83, 87, 45, 65, 32, 18, 72, 60, 67, 63, 26, 43, 82, 60, 40, 43, 66,\n",
       "       62, 85, 69, 84, 77, 27, 78, 22, 46, 44, 36, 88, 45, 31, 84, 85, 39,\n",
       "       46, 88, 78, 43, 58, 80, 25])"
      ]
     },
     "execution_count": 8,
     "metadata": {},
     "output_type": "execute_result"
    }
   ],
   "source": [
    "# Mode\n",
    "# generated some fake age data for 500 people\n",
    "ages = np.random.randint(18, high=90, size=500)\n",
    "ages"
   ]
  },
  {
   "cell_type": "code",
   "execution_count": 9,
   "metadata": {},
   "outputs": [
    {
     "data": {
      "text/plain": [
       "ModeResult(mode=array([36]), count=array([12]))"
      ]
     },
     "execution_count": 9,
     "metadata": {},
     "output_type": "execute_result"
    }
   ],
   "source": [
    "from scipy import stats\n",
    "stats.mode(ages)"
   ]
  },
  {
   "cell_type": "code",
   "execution_count": null,
   "metadata": {},
   "outputs": [],
   "source": []
  },
  {
   "cell_type": "code",
   "execution_count": null,
   "metadata": {},
   "outputs": [],
   "source": []
  }
 ],
 "metadata": {
  "kernelspec": {
   "display_name": "Python 3",
   "language": "python",
   "name": "python3"
  },
  "language_info": {
   "codemirror_mode": {
    "name": "ipython",
    "version": 3
   },
   "file_extension": ".py",
   "mimetype": "text/x-python",
   "name": "python",
   "nbconvert_exporter": "python",
   "pygments_lexer": "ipython3",
   "version": "3.7.0"
  }
 },
 "nbformat": 4,
 "nbformat_minor": 2
}
